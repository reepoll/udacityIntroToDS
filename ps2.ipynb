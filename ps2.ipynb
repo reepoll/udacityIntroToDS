{
 "cells": [
  {
   "cell_type": "code",
   "execution_count": 83,
   "metadata": {
    "collapsed": true
   },
   "outputs": [],
   "source": [
    "import pandas as pd\n",
    "import pandasql as pdsql"
   ]
  },
  {
   "cell_type": "code",
   "execution_count": 84,
   "metadata": {
    "collapsed": false
   },
   "outputs": [],
   "source": [
    "filename = 'weather_underground.csv'\n",
    "weather_data = pd.read_csv('./data/' + filename)"
   ]
  },
  {
   "cell_type": "code",
   "execution_count": 85,
   "metadata": {
    "collapsed": false
   },
   "outputs": [
    {
     "data": {
      "text/html": [
       "<div>\n",
       "<table border=\"1\" class=\"dataframe\">\n",
       "  <thead>\n",
       "    <tr style=\"text-align: right;\">\n",
       "      <th></th>\n",
       "      <th>maxpressurem</th>\n",
       "      <th>maxdewptm</th>\n",
       "      <th>maxpressurei</th>\n",
       "      <th>maxdewpti</th>\n",
       "      <th>since1julheatingdegreedaysnormal</th>\n",
       "      <th>heatingdegreedaysnormal</th>\n",
       "      <th>since1sepcoolingdegreedaysnormal</th>\n",
       "      <th>hail</th>\n",
       "      <th>since1julsnowfallm</th>\n",
       "      <th>since1julheatingdegreedays</th>\n",
       "      <th>...</th>\n",
       "      <th>precipi</th>\n",
       "      <th>snowfalli</th>\n",
       "      <th>since1jancoolingdegreedaysnormal</th>\n",
       "      <th>precipm</th>\n",
       "      <th>snowfallm</th>\n",
       "      <th>thunder</th>\n",
       "      <th>monthtodateheatingdegreedays</th>\n",
       "      <th>meantempi</th>\n",
       "      <th>maxvism</th>\n",
       "      <th>meantempm</th>\n",
       "    </tr>\n",
       "  </thead>\n",
       "  <tbody>\n",
       "    <tr>\n",
       "      <th>count</th>\n",
       "      <td>30.000000</td>\n",
       "      <td>30.000000</td>\n",
       "      <td>30.000000</td>\n",
       "      <td>30.000000</td>\n",
       "      <td>30.000000</td>\n",
       "      <td>30.000000</td>\n",
       "      <td>0.0</td>\n",
       "      <td>30.0</td>\n",
       "      <td>3.000000e+01</td>\n",
       "      <td>30.000000</td>\n",
       "      <td>...</td>\n",
       "      <td>30.000000</td>\n",
       "      <td>30.0</td>\n",
       "      <td>30.000000</td>\n",
       "      <td>30.000000</td>\n",
       "      <td>30.0</td>\n",
       "      <td>30.0</td>\n",
       "      <td>30.000000</td>\n",
       "      <td>30.000000</td>\n",
       "      <td>30.000000</td>\n",
       "      <td>30.000000</td>\n",
       "    </tr>\n",
       "    <tr>\n",
       "      <th>mean</th>\n",
       "      <td>1016.733333</td>\n",
       "      <td>14.066667</td>\n",
       "      <td>30.031333</td>\n",
       "      <td>57.266667</td>\n",
       "      <td>4717.700000</td>\n",
       "      <td>4.166667</td>\n",
       "      <td>NaN</td>\n",
       "      <td>0.0</td>\n",
       "      <td>1.572300e+02</td>\n",
       "      <td>4691.100000</td>\n",
       "      <td>...</td>\n",
       "      <td>0.172667</td>\n",
       "      <td>0.0</td>\n",
       "      <td>34.300000</td>\n",
       "      <td>4.329000</td>\n",
       "      <td>0.0</td>\n",
       "      <td>0.0</td>\n",
       "      <td>61.100000</td>\n",
       "      <td>64.300000</td>\n",
       "      <td>15.733333</td>\n",
       "      <td>17.900000</td>\n",
       "    </tr>\n",
       "    <tr>\n",
       "      <th>std</th>\n",
       "      <td>4.425111</td>\n",
       "      <td>4.940566</td>\n",
       "      <td>0.127840</td>\n",
       "      <td>8.920852</td>\n",
       "      <td>35.338901</td>\n",
       "      <td>1.821014</td>\n",
       "      <td>NaN</td>\n",
       "      <td>0.0</td>\n",
       "      <td>2.890759e-14</td>\n",
       "      <td>28.807746</td>\n",
       "      <td>...</td>\n",
       "      <td>0.437051</td>\n",
       "      <td>0.0</td>\n",
       "      <td>17.186904</td>\n",
       "      <td>11.119453</td>\n",
       "      <td>0.0</td>\n",
       "      <td>0.0</td>\n",
       "      <td>28.807746</td>\n",
       "      <td>6.685806</td>\n",
       "      <td>1.142693</td>\n",
       "      <td>3.744882</td>\n",
       "    </tr>\n",
       "    <tr>\n",
       "      <th>min</th>\n",
       "      <td>1007.000000</td>\n",
       "      <td>4.000000</td>\n",
       "      <td>29.740000</td>\n",
       "      <td>39.000000</td>\n",
       "      <td>4646.000000</td>\n",
       "      <td>2.000000</td>\n",
       "      <td>NaN</td>\n",
       "      <td>0.0</td>\n",
       "      <td>1.572300e+02</td>\n",
       "      <td>4635.000000</td>\n",
       "      <td>...</td>\n",
       "      <td>0.000000</td>\n",
       "      <td>0.0</td>\n",
       "      <td>13.000000</td>\n",
       "      <td>0.000000</td>\n",
       "      <td>0.0</td>\n",
       "      <td>0.0</td>\n",
       "      <td>5.000000</td>\n",
       "      <td>55.000000</td>\n",
       "      <td>10.000000</td>\n",
       "      <td>13.000000</td>\n",
       "    </tr>\n",
       "    <tr>\n",
       "      <th>25%</th>\n",
       "      <td>1014.250000</td>\n",
       "      <td>10.000000</td>\n",
       "      <td>29.965000</td>\n",
       "      <td>50.000000</td>\n",
       "      <td>4692.250000</td>\n",
       "      <td>3.000000</td>\n",
       "      <td>NaN</td>\n",
       "      <td>0.0</td>\n",
       "      <td>1.572300e+02</td>\n",
       "      <td>4669.500000</td>\n",
       "      <td>...</td>\n",
       "      <td>0.000000</td>\n",
       "      <td>0.0</td>\n",
       "      <td>20.250000</td>\n",
       "      <td>0.000000</td>\n",
       "      <td>0.0</td>\n",
       "      <td>0.0</td>\n",
       "      <td>39.500000</td>\n",
       "      <td>60.250000</td>\n",
       "      <td>16.000000</td>\n",
       "      <td>16.000000</td>\n",
       "    </tr>\n",
       "    <tr>\n",
       "      <th>50%</th>\n",
       "      <td>1017.000000</td>\n",
       "      <td>14.500000</td>\n",
       "      <td>30.030000</td>\n",
       "      <td>58.000000</td>\n",
       "      <td>4725.000000</td>\n",
       "      <td>4.000000</td>\n",
       "      <td>NaN</td>\n",
       "      <td>0.0</td>\n",
       "      <td>1.572300e+02</td>\n",
       "      <td>4690.500000</td>\n",
       "      <td>...</td>\n",
       "      <td>0.000000</td>\n",
       "      <td>0.0</td>\n",
       "      <td>30.000000</td>\n",
       "      <td>0.000000</td>\n",
       "      <td>0.0</td>\n",
       "      <td>0.0</td>\n",
       "      <td>60.500000</td>\n",
       "      <td>63.000000</td>\n",
       "      <td>16.000000</td>\n",
       "      <td>17.000000</td>\n",
       "    </tr>\n",
       "    <tr>\n",
       "      <th>75%</th>\n",
       "      <td>1019.000000</td>\n",
       "      <td>17.750000</td>\n",
       "      <td>30.097500</td>\n",
       "      <td>63.750000</td>\n",
       "      <td>4748.250000</td>\n",
       "      <td>5.750000</td>\n",
       "      <td>NaN</td>\n",
       "      <td>0.0</td>\n",
       "      <td>1.572300e+02</td>\n",
       "      <td>4723.000000</td>\n",
       "      <td>...</td>\n",
       "      <td>0.092500</td>\n",
       "      <td>0.0</td>\n",
       "      <td>46.250000</td>\n",
       "      <td>2.350000</td>\n",
       "      <td>0.0</td>\n",
       "      <td>0.0</td>\n",
       "      <td>93.000000</td>\n",
       "      <td>67.750000</td>\n",
       "      <td>16.000000</td>\n",
       "      <td>19.750000</td>\n",
       "    </tr>\n",
       "    <tr>\n",
       "      <th>max</th>\n",
       "      <td>1026.000000</td>\n",
       "      <td>21.000000</td>\n",
       "      <td>30.310000</td>\n",
       "      <td>70.000000</td>\n",
       "      <td>4763.000000</td>\n",
       "      <td>8.000000</td>\n",
       "      <td>NaN</td>\n",
       "      <td>0.0</td>\n",
       "      <td>1.572300e+02</td>\n",
       "      <td>4724.000000</td>\n",
       "      <td>...</td>\n",
       "      <td>2.180000</td>\n",
       "      <td>0.0</td>\n",
       "      <td>71.000000</td>\n",
       "      <td>55.370000</td>\n",
       "      <td>0.0</td>\n",
       "      <td>0.0</td>\n",
       "      <td>94.000000</td>\n",
       "      <td>78.000000</td>\n",
       "      <td>16.000000</td>\n",
       "      <td>26.000000</td>\n",
       "    </tr>\n",
       "  </tbody>\n",
       "</table>\n",
       "<p>8 rows × 69 columns</p>\n",
       "</div>"
      ],
      "text/plain": [
       "       maxpressurem  maxdewptm  maxpressurei  maxdewpti  \\\n",
       "count     30.000000  30.000000     30.000000  30.000000   \n",
       "mean    1016.733333  14.066667     30.031333  57.266667   \n",
       "std        4.425111   4.940566      0.127840   8.920852   \n",
       "min     1007.000000   4.000000     29.740000  39.000000   \n",
       "25%     1014.250000  10.000000     29.965000  50.000000   \n",
       "50%     1017.000000  14.500000     30.030000  58.000000   \n",
       "75%     1019.000000  17.750000     30.097500  63.750000   \n",
       "max     1026.000000  21.000000     30.310000  70.000000   \n",
       "\n",
       "       since1julheatingdegreedaysnormal  heatingdegreedaysnormal  \\\n",
       "count                         30.000000                30.000000   \n",
       "mean                        4717.700000                 4.166667   \n",
       "std                           35.338901                 1.821014   \n",
       "min                         4646.000000                 2.000000   \n",
       "25%                         4692.250000                 3.000000   \n",
       "50%                         4725.000000                 4.000000   \n",
       "75%                         4748.250000                 5.750000   \n",
       "max                         4763.000000                 8.000000   \n",
       "\n",
       "       since1sepcoolingdegreedaysnormal  hail  since1julsnowfallm  \\\n",
       "count                               0.0  30.0        3.000000e+01   \n",
       "mean                                NaN   0.0        1.572300e+02   \n",
       "std                                 NaN   0.0        2.890759e-14   \n",
       "min                                 NaN   0.0        1.572300e+02   \n",
       "25%                                 NaN   0.0        1.572300e+02   \n",
       "50%                                 NaN   0.0        1.572300e+02   \n",
       "75%                                 NaN   0.0        1.572300e+02   \n",
       "max                                 NaN   0.0        1.572300e+02   \n",
       "\n",
       "       since1julheatingdegreedays    ...        precipi  snowfalli  \\\n",
       "count                   30.000000    ...      30.000000       30.0   \n",
       "mean                  4691.100000    ...       0.172667        0.0   \n",
       "std                     28.807746    ...       0.437051        0.0   \n",
       "min                   4635.000000    ...       0.000000        0.0   \n",
       "25%                   4669.500000    ...       0.000000        0.0   \n",
       "50%                   4690.500000    ...       0.000000        0.0   \n",
       "75%                   4723.000000    ...       0.092500        0.0   \n",
       "max                   4724.000000    ...       2.180000        0.0   \n",
       "\n",
       "       since1jancoolingdegreedaysnormal    precipm  snowfallm  thunder  \\\n",
       "count                         30.000000  30.000000       30.0     30.0   \n",
       "mean                          34.300000   4.329000        0.0      0.0   \n",
       "std                           17.186904  11.119453        0.0      0.0   \n",
       "min                           13.000000   0.000000        0.0      0.0   \n",
       "25%                           20.250000   0.000000        0.0      0.0   \n",
       "50%                           30.000000   0.000000        0.0      0.0   \n",
       "75%                           46.250000   2.350000        0.0      0.0   \n",
       "max                           71.000000  55.370000        0.0      0.0   \n",
       "\n",
       "       monthtodateheatingdegreedays  meantempi    maxvism  meantempm  \n",
       "count                     30.000000  30.000000  30.000000  30.000000  \n",
       "mean                      61.100000  64.300000  15.733333  17.900000  \n",
       "std                       28.807746   6.685806   1.142693   3.744882  \n",
       "min                        5.000000  55.000000  10.000000  13.000000  \n",
       "25%                       39.500000  60.250000  16.000000  16.000000  \n",
       "50%                       60.500000  63.000000  16.000000  17.000000  \n",
       "75%                       93.000000  67.750000  16.000000  19.750000  \n",
       "max                       94.000000  78.000000  16.000000  26.000000  \n",
       "\n",
       "[8 rows x 69 columns]"
      ]
     },
     "execution_count": 85,
     "metadata": {},
     "output_type": "execute_result"
    }
   ],
   "source": [
    "weather_data.describe()"
   ]
  },
  {
   "cell_type": "markdown",
   "metadata": {},
   "source": [
    "#### Q1: Find the number of days when it rained"
   ]
  },
  {
   "cell_type": "code",
   "execution_count": 86,
   "metadata": {
    "collapsed": false
   },
   "outputs": [],
   "source": [
    "def num_rainy_days(weather_data):\n",
    "    \n",
    "    q = \"\"\"\n",
    "    SELECT count(*)\n",
    "    FROM weather_data wd\n",
    "    WHERE wd.rain == 1\n",
    "    \"\"\"\n",
    "    \n",
    "    rainy_days = pdsql.sqldf(q.lower(), locals())\n",
    "    \n",
    "    return rainy_days"
   ]
  },
  {
   "cell_type": "code",
   "execution_count": 87,
   "metadata": {
    "collapsed": false
   },
   "outputs": [
    {
     "data": {
      "text/html": [
       "<div>\n",
       "<table border=\"1\" class=\"dataframe\">\n",
       "  <thead>\n",
       "    <tr style=\"text-align: right;\">\n",
       "      <th></th>\n",
       "      <th>count(*)</th>\n",
       "    </tr>\n",
       "  </thead>\n",
       "  <tbody>\n",
       "    <tr>\n",
       "      <th>0</th>\n",
       "      <td>10</td>\n",
       "    </tr>\n",
       "  </tbody>\n",
       "</table>\n",
       "</div>"
      ],
      "text/plain": [
       "   count(*)\n",
       "0        10"
      ]
     },
     "execution_count": 87,
     "metadata": {},
     "output_type": "execute_result"
    }
   ],
   "source": [
    "num_rainy_days(weather_data)"
   ]
  },
  {
   "cell_type": "markdown",
   "metadata": {},
   "source": [
    "#### Q2: The SQL query should return two columns and two rows - whether it was foggy or not (0 or 1) and the max maxtempi for that fog value (i.e., the maximum max temperature for both foggy and non-foggy days)."
   ]
  },
  {
   "cell_type": "code",
   "execution_count": 88,
   "metadata": {
    "collapsed": false
   },
   "outputs": [],
   "source": [
    "def max_temp_aggregate_by_fog(weather_data):\n",
    "    \n",
    "    q = \"\"\"\n",
    "    SELECT wd.fog, cast(max(maxtempi) as integer)\n",
    "    FROM weather_data wd\n",
    "    GROUP BY wd.fog\n",
    "    \"\"\"\n",
    "    \n",
    "    foggy_days = pdsql.sqldf(q.lower(), locals())\n",
    "                       \n",
    "    return foggy_days"
   ]
  },
  {
   "cell_type": "code",
   "execution_count": 89,
   "metadata": {
    "collapsed": false
   },
   "outputs": [
    {
     "data": {
      "text/html": [
       "<div>\n",
       "<table border=\"1\" class=\"dataframe\">\n",
       "  <thead>\n",
       "    <tr style=\"text-align: right;\">\n",
       "      <th></th>\n",
       "      <th>fog</th>\n",
       "      <th>cast(max(maxtempi) as integer)</th>\n",
       "    </tr>\n",
       "  </thead>\n",
       "  <tbody>\n",
       "    <tr>\n",
       "      <th>0</th>\n",
       "      <td>0</td>\n",
       "      <td>86</td>\n",
       "    </tr>\n",
       "    <tr>\n",
       "      <th>1</th>\n",
       "      <td>1</td>\n",
       "      <td>81</td>\n",
       "    </tr>\n",
       "  </tbody>\n",
       "</table>\n",
       "</div>"
      ],
      "text/plain": [
       "   fog  cast(max(maxtempi) as integer)\n",
       "0    0                              86\n",
       "1    1                              81"
      ]
     },
     "execution_count": 89,
     "metadata": {},
     "output_type": "execute_result"
    }
   ],
   "source": [
    "max_temp_aggregate_by_fog(weather_data)"
   ]
  },
  {
   "cell_type": "markdown",
   "metadata": {},
   "source": [
    "#### 3. The SQL query should return one column and one row - the average meantempi on days that are a Saturday or Sunday (i.e., the the average mean temperature on weekends)."
   ]
  },
  {
   "cell_type": "code",
   "execution_count": 90,
   "metadata": {
    "collapsed": true
   },
   "outputs": [],
   "source": [
    "def avg_weekend_temperature(weather_data):\n",
    "    \n",
    "    q = \"\"\"\n",
    "    SELECT AVG(meantempi)\n",
    "    FROM weather_data\n",
    "    WHERE cast(strftime('%w', date) as integer) == 0 OR cast(strftime('%w', date) as integer) == 6\n",
    "    \"\"\"\n",
    "    \n",
    "    mean_temp_weekends = pdsql.sqldf(q.lower(), locals())\n",
    "    \n",
    "    return mean_temp_weekends"
   ]
  },
  {
   "cell_type": "code",
   "execution_count": 91,
   "metadata": {
    "collapsed": false
   },
   "outputs": [
    {
     "data": {
      "text/html": [
       "<div>\n",
       "<table border=\"1\" class=\"dataframe\">\n",
       "  <thead>\n",
       "    <tr style=\"text-align: right;\">\n",
       "      <th></th>\n",
       "      <th>avg(meantempi)</th>\n",
       "    </tr>\n",
       "  </thead>\n",
       "  <tbody>\n",
       "    <tr>\n",
       "      <th>0</th>\n",
       "      <td>65.111111</td>\n",
       "    </tr>\n",
       "  </tbody>\n",
       "</table>\n",
       "</div>"
      ],
      "text/plain": [
       "   avg(meantempi)\n",
       "0       65.111111"
      ]
     },
     "execution_count": 91,
     "metadata": {},
     "output_type": "execute_result"
    }
   ],
   "source": [
    "avg_weekend_temperature(weather_data)"
   ]
  },
  {
   "cell_type": "markdown",
   "metadata": {},
   "source": [
    "#### 4. You want to find the average minimum temperature (mintempi column of the weather dataframe) on rainy days where the minimum temperature is greater than 55 degrees."
   ]
  },
  {
   "cell_type": "code",
   "execution_count": 92,
   "metadata": {
    "collapsed": true
   },
   "outputs": [],
   "source": [
    "def avg_min_temperaure(weather_data):\n",
    "    \n",
    "    q= \"\"\"\n",
    "    SELECT AVG(mintempi)\n",
    "    FROM weather_data\n",
    "    WHERE rain >= 1\n",
    "        AND mintempi > 55\n",
    "    \"\"\"\n",
    "    \n",
    "    avg_min_temp_rainy = pdsql.sqldf(q.lower(), locals())\n",
    "    return avg_min_temp_rainy\n"
   ]
  },
  {
   "cell_type": "code",
   "execution_count": 93,
   "metadata": {
    "collapsed": false
   },
   "outputs": [
    {
     "data": {
      "text/html": [
       "<div>\n",
       "<table border=\"1\" class=\"dataframe\">\n",
       "  <thead>\n",
       "    <tr style=\"text-align: right;\">\n",
       "      <th></th>\n",
       "      <th>avg(mintempi)</th>\n",
       "    </tr>\n",
       "  </thead>\n",
       "  <tbody>\n",
       "    <tr>\n",
       "      <th>0</th>\n",
       "      <td>61.25</td>\n",
       "    </tr>\n",
       "  </tbody>\n",
       "</table>\n",
       "</div>"
      ],
      "text/plain": [
       "   avg(mintempi)\n",
       "0          61.25"
      ]
     },
     "execution_count": 93,
     "metadata": {},
     "output_type": "execute_result"
    }
   ],
   "source": [
    "avg_min_temperaure(weather_data)"
   ]
  },
  {
   "cell_type": "markdown",
   "metadata": {
    "collapsed": true
   },
   "source": [
    "#### 5. Write the updates to a different text file in the format of \"updated_\" + filename.\n",
    "    For example:\n",
    "        1) if you read in a text file called \"turnstile_110521.txt\"\n",
    "        2) you should write the updated data to \"updated_turnstile_110521.txt\""
   ]
  },
  {
   "cell_type": "code",
   "execution_count": 94,
   "metadata": {
    "collapsed": true
   },
   "outputs": [],
   "source": [
    "import csv\n",
    "test_file = './data/sample-mta-file.csv'\n",
    "name = test_file"
   ]
  },
  {
   "cell_type": "code",
   "execution_count": 95,
   "metadata": {
    "collapsed": false
   },
   "outputs": [],
   "source": [
    "#for name in filenames:\n",
    "        \n",
    "f_in = open(name, 'r')\n",
    "#new_fname = 'updated_' + name\n",
    "new_fname = 'updated_sample-mta-file.csv'\n",
    "f_out = open(new_fname, 'w')\n",
    "\n",
    "reader_in = csv.reader(f_in, delimiter = ',')\n",
    "writer_out = csv.writer(f_out, delimiter = ',')   "
   ]
  },
  {
   "cell_type": "code",
   "execution_count": 96,
   "metadata": {
    "collapsed": false
   },
   "outputs": [
    {
     "ename": "TypeError",
     "evalue": "'float' object cannot be interpreted as an integer",
     "output_type": "error",
     "traceback": [
      "\u001b[0;31m---------------------------------------------------------------------------\u001b[0m",
      "\u001b[0;31mTypeError\u001b[0m                                 Traceback (most recent call last)",
      "\u001b[0;32m<ipython-input-96-b47ad6be47f0>\u001b[0m in \u001b[0;36m<module>\u001b[0;34m()\u001b[0m\n\u001b[1;32m      2\u001b[0m             \u001b[0melements\u001b[0m \u001b[0;34m=\u001b[0m \u001b[0mlen\u001b[0m\u001b[0;34m(\u001b[0m\u001b[0mline\u001b[0m\u001b[0;34m)\u001b[0m\u001b[0;34m\u001b[0m\u001b[0m\n\u001b[1;32m      3\u001b[0m             \u001b[0mnum_lines\u001b[0m \u001b[0;34m=\u001b[0m \u001b[0;34m(\u001b[0m\u001b[0melements\u001b[0m \u001b[0;34m-\u001b[0m \u001b[0;36m3\u001b[0m\u001b[0;34m)\u001b[0m \u001b[0;34m/\u001b[0m \u001b[0;36m5\u001b[0m\u001b[0;34m\u001b[0m\u001b[0m\n\u001b[0;32m----> 4\u001b[0;31m             \u001b[0;32mfor\u001b[0m \u001b[0mi\u001b[0m \u001b[0;32min\u001b[0m \u001b[0mrange\u001b[0m\u001b[0;34m(\u001b[0m\u001b[0mnum_lines\u001b[0m\u001b[0;34m)\u001b[0m\u001b[0;34m:\u001b[0m\u001b[0;34m\u001b[0m\u001b[0m\n\u001b[0m\u001b[1;32m      5\u001b[0m                 \u001b[0mline_out\u001b[0m \u001b[0;34m=\u001b[0m \u001b[0mline\u001b[0m\u001b[0;34m[\u001b[0m\u001b[0;36m0\u001b[0m\u001b[0;34m]\u001b[0m\u001b[0;34m,\u001b[0m \u001b[0mline\u001b[0m\u001b[0;34m[\u001b[0m\u001b[0;36m1\u001b[0m\u001b[0;34m]\u001b[0m\u001b[0;34m,\u001b[0m \u001b[0mline\u001b[0m\u001b[0;34m[\u001b[0m\u001b[0;36m2\u001b[0m\u001b[0;34m]\u001b[0m\u001b[0;34m,\u001b[0m \u001b[0mline\u001b[0m\u001b[0;34m[\u001b[0m\u001b[0;36m3\u001b[0m\u001b[0;34m+\u001b[0m\u001b[0;36m5\u001b[0m\u001b[0;34m*\u001b[0m\u001b[0mi\u001b[0m\u001b[0;34m]\u001b[0m\u001b[0;34m,\u001b[0m \u001b[0mline\u001b[0m\u001b[0;34m[\u001b[0m\u001b[0;36m4\u001b[0m\u001b[0;34m+\u001b[0m\u001b[0;36m5\u001b[0m\u001b[0;34m*\u001b[0m\u001b[0mi\u001b[0m\u001b[0;34m]\u001b[0m\u001b[0;34m,\u001b[0m \u001b[0mline\u001b[0m\u001b[0;34m[\u001b[0m\u001b[0;36m5\u001b[0m\u001b[0;34m+\u001b[0m\u001b[0;36m5\u001b[0m\u001b[0;34m*\u001b[0m\u001b[0mi\u001b[0m\u001b[0;34m]\u001b[0m\u001b[0;34m,\u001b[0m \u001b[0mline\u001b[0m\u001b[0;34m[\u001b[0m\u001b[0;36m6\u001b[0m\u001b[0;34m+\u001b[0m\u001b[0;36m5\u001b[0m\u001b[0;34m*\u001b[0m\u001b[0mi\u001b[0m\u001b[0;34m]\u001b[0m\u001b[0;34m,\u001b[0m \u001b[0mline\u001b[0m\u001b[0;34m[\u001b[0m\u001b[0;36m7\u001b[0m\u001b[0;34m+\u001b[0m\u001b[0;36m5\u001b[0m\u001b[0;34m*\u001b[0m\u001b[0mi\u001b[0m\u001b[0;34m]\u001b[0m\u001b[0;34m\u001b[0m\u001b[0m\n\u001b[1;32m      6\u001b[0m                 \u001b[0mwriter_out\u001b[0m\u001b[0;34m.\u001b[0m\u001b[0mwriterow\u001b[0m\u001b[0;34m(\u001b[0m\u001b[0mline_out\u001b[0m\u001b[0;34m)\u001b[0m\u001b[0;34m\u001b[0m\u001b[0m\n",
      "\u001b[0;31mTypeError\u001b[0m: 'float' object cannot be interpreted as an integer"
     ]
    }
   ],
   "source": [
    "for line in reader_in:\n",
    "            elements = len(line)\n",
    "            num_lines = (elements - 3) / 5\n",
    "            for i in range(num_lines):\n",
    "                line_out = line[0], line[1], line[2], line[3+5*i], line[4+5*i], line[5+5*i], line[6+5*i], line[7+5*i]\n",
    "                writer_out.writerow(line_out)"
   ]
  },
  {
   "cell_type": "code",
   "execution_count": 97,
   "metadata": {
    "collapsed": false
   },
   "outputs": [],
   "source": [
    "f_in.close()\n",
    "f_out.close() "
   ]
  },
  {
   "cell_type": "markdown",
   "metadata": {},
   "source": [
    "####  6. Write a function that takes the files in the list filenames, which all have the  columns 'C/A, UNIT, SCP, DATEn, TIMEn, DESCn, ENTRIESn, EXITSn', and consolidates them into one file located at output_file.  There should be ONE row with the column headers, located at the top of the file. The input files do not have column header rows of their own."
   ]
  },
  {
   "cell_type": "code",
   "execution_count": 98,
   "metadata": {
    "collapsed": false
   },
   "outputs": [
    {
     "data": {
      "text/plain": [
       "\"with open(output_file, 'w') as master_file:\\n        master_file.write('C/A,UNIT,SCP,DATEn,TIMEn,DESCn,ENTRIESn,EXITSn\\n')\\n        for filename in filenames:\\n            with open(filename) as infile:\\n                for line in infile:\\n                    master_file.write(line)\\n\""
      ]
     },
     "execution_count": 98,
     "metadata": {},
     "output_type": "execute_result"
    }
   ],
   "source": [
    "'''with open(output_file, 'w') as master_file:\n",
    "        master_file.write('C/A,UNIT,SCP,DATEn,TIMEn,DESCn,ENTRIESn,EXITSn\\n')\n",
    "        for filename in filenames:\n",
    "            with open(filename) as infile:\n",
    "                for line in infile:\n",
    "                    master_file.write(line)\n",
    "'''"
   ]
  },
  {
   "cell_type": "markdown",
   "metadata": {},
   "source": [
    "#### 7. This function should read the csv file located at filename into a pandas dataframe, and filter the dataframe to only rows where the 'DESCn' column has the value 'REGULAR'."
   ]
  },
  {
   "cell_type": "code",
   "execution_count": 99,
   "metadata": {
    "collapsed": false
   },
   "outputs": [
    {
     "data": {
      "text/plain": [
       "\"\\ndf = pandas.read_csv(filename)\\nturnstile_data = df[df['DESCn'] == 'REGULAR']\\n\""
      ]
     },
     "execution_count": 99,
     "metadata": {},
     "output_type": "execute_result"
    }
   ],
   "source": [
    "'''\n",
    "df = pandas.read_csv(filename)\n",
    "turnstile_data = df[df['DESCn'] == 'REGULAR']\n",
    "'''"
   ]
  },
  {
   "cell_type": "markdown",
   "metadata": {},
   "source": [
    "#### 8. and 9. More specifically, you want to do two things: \n",
    "1) Create a new column called ENTRIESn_hourly \n",
    "2) Assign to the column the difference between ENTRIESn of the current row and the previous row. If there is any NaN, fill/replace it with 1."
   ]
  },
  {
   "cell_type": "code",
   "execution_count": 100,
   "metadata": {
    "collapsed": true
   },
   "outputs": [],
   "source": [
    "#df['ENTRIESn_hourly'] = df['ENTRIESn'] - df['ENTRIESn'].shift(1)\n",
    "#df['ENTRIESn_hourly'] = df['ENTRIESn_hourly'].fillna(1)\n",
    "\n",
    "#df['EXITSn_hourly'] = df['EXITSn'] - df['EXITSn'].shift(1)\n",
    "#df['EXITSn_hourly'] = df['EXITSn_hourly'].fillna(0)\n",
    "\n",
    "#hour = int(time[:2])"
   ]
  },
  {
   "cell_type": "code",
   "execution_count": 101,
   "metadata": {
    "collapsed": true
   },
   "outputs": [],
   "source": [
    "time = \"00:00:00\""
   ]
  },
  {
   "cell_type": "markdown",
   "metadata": {},
   "source": [
    "#### 11. In order to join these two data sets together, we'll want the dates formatted the same way.  Write a function that takes as its input a date in the MTA Subway data format, and returns a date in the weather underground format."
   ]
  },
  {
   "cell_type": "code",
   "execution_count": 108,
   "metadata": {
    "collapsed": false
   },
   "outputs": [],
   "source": [
    "#date_formatted = datetime.datetime.strptime(date, \"%m-%d-%y\").strftime('%Y-%m-%d')"
   ]
  },
  {
   "cell_type": "code",
   "execution_count": null,
   "metadata": {
    "collapsed": false
   },
   "outputs": [],
   "source": []
  },
  {
   "cell_type": "code",
   "execution_count": null,
   "metadata": {
    "collapsed": true
   },
   "outputs": [],
   "source": []
  }
 ],
 "metadata": {
  "anaconda-cloud": {},
  "kernelspec": {
   "display_name": "Python [default]",
   "language": "python",
   "name": "python3"
  },
  "language_info": {
   "codemirror_mode": {
    "name": "ipython",
    "version": 3
   },
   "file_extension": ".py",
   "mimetype": "text/x-python",
   "name": "python",
   "nbconvert_exporter": "python",
   "pygments_lexer": "ipython3",
   "version": "3.5.2"
  }
 },
 "nbformat": 4,
 "nbformat_minor": 0
}
